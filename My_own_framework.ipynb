{
 "cells": [
  {
   "cell_type": "markdown",
   "metadata": {},
   "source": [
    "### I have put in lots of work to make this notebook\n",
    "-  refering to the important concepts mentioned in the **michael nielsen deep learning book** (chapter 1, chapter 2, chapter 3)\n",
    "- I have tried my best to make a neural network class from the beginning my own without copying the code in the **michael nielsen** book.\n",
    "- i have wanted to make a class that is similar in structure as the tensorflow library."
   ]
  },
  {
   "cell_type": "code",
   "execution_count": 1,
   "metadata": {},
   "outputs": [],
   "source": [
    "from sklearn.datasets import make_classification\n",
    "import numpy as np"
   ]
  },
  {
   "cell_type": "markdown",
   "metadata": {},
   "source": [
    "#### At the beginning i used a generated data using the **make_classification** library to test and debug my framework before trying it on the minist dataset."
   ]
  },
  {
   "cell_type": "code",
   "execution_count": 2,
   "metadata": {},
   "outputs": [],
   "source": [
    "n = 100\n",
    "X, Y = make_classification(n_samples = n, n_features=7,\n",
    "                           n_redundant=0, n_informative=7, flip_y=0.0, n_classes=3)\n",
    "X = X.astype(np.float32)\n",
    "Y = Y.astype(np.int32)\n",
    "\n",
    "train_x, test_x = np.split(X, [n*8//10])\n",
    "train_labels, test_labels = np.split(Y, [n*8//10])"
   ]
  },
  {
   "cell_type": "code",
   "execution_count": 3,
   "metadata": {},
   "outputs": [
    {
     "name": "stdout",
     "output_type": "stream",
     "text": [
      "[[-2.9715028  -2.111734    2.6699836  -0.89083135 -4.324263    0.09723637\n",
      "  -0.68138725]\n",
      " [-2.4533546  -1.1386522   0.14909688  0.9929887  -1.5600386  -1.7178034\n",
      "   0.59493536]\n",
      " [-3.0627162  -0.7382625   1.085122   -0.42586046  2.318875   -0.84472156\n",
      "   0.43813038]\n",
      " [ 1.3751217   1.7328203   1.7510338  -1.2073286   0.01872577  0.15517184\n",
      "  -0.5734819 ]]\n"
     ]
    }
   ],
   "source": [
    "print(train_x[0:4])\n",
    "# print(train_labels[10:13])"
   ]
  },
  {
   "cell_type": "markdown",
   "metadata": {},
   "source": [
    "## Making a layer class\n",
    "\n",
    "- representing the linear layers of the neural network\n",
    "\n",
    "- Its functions:\n",
    "    1. forward(x): Computes the weighted input (z) and applies the sigmoid activation if enabled.\n",
    "    2. backward(dz): Computes gradients for weights (dW), biases (db), and the input (dx) using the chain rule.\n",
    "    3. update(lr): Updates the weights and biases using the computed gradients and the learning rate.\n",
    "\n",
    "- have made a built in sigmoid boolean in each layer that can activate the sigmoid functions for the outputs of the neurons in the layer if set to TRUE\n"
   ]
  },
  {
   "cell_type": "code",
   "execution_count": 17,
   "metadata": {},
   "outputs": [
    {
     "name": "stdout",
     "output_type": "stream",
     "text": [
      "[[ 0.50962547  0.16957474  0.08069371 -0.27969603  0.3778904  -0.07800394\n",
      "   0.2465736 ]\n",
      " [-0.54821106 -0.10888825  0.44066916  0.10480896 -0.55485027 -0.22940648\n",
      "   0.04730613]\n",
      " [-0.8473482  -0.09613679  0.02987103 -0.33097631  0.23691839  0.21238879\n",
      "   0.30154372]]\n"
     ]
    }
   ],
   "source": [
    "class Layer:\n",
    "    def __init__(self, nin, nout, sigmoid = False):\n",
    "        self.sigmoid = sigmoid\n",
    "        self.W = np.random.normal(0, 1.0/np.sqrt(nin), (nout, nin))\n",
    "        self.b = np.zeros((1,nout))\n",
    "        \n",
    "    def forward(self, x):\n",
    "        self.x = x\n",
    "        z = np.dot(x, self.W.T) + self.b\n",
    "\n",
    "        if self.sigmoid: return 1.0/(1.0+np.exp(-z))\n",
    "        return z\n",
    "    \n",
    "    def backward(self, dz):\n",
    "        dx = np.dot(dz, self.W)\n",
    "        dW = np.dot(dz.T, self.x)\n",
    "        db = dz.sum(axis=0)\n",
    "        self.dW = dW\n",
    "        self.db = db\n",
    "        return dx\n",
    "    \n",
    "    def update(self,lr):\n",
    "        self.W -= lr*self.dW\n",
    "        self.b -= lr*self.db\n",
    "    \n",
    "    \n",
    "mod = Layer(7,3, sigmoid = True)\n",
    "# net.forward(train_x[0])\n",
    "print(mod.W)"
   ]
  },
  {
   "attachments": {
    "image.png": {
     "image/png": "[encoded data removed]"
    }
   },
   "cell_type": "markdown",
   "metadata": {},
   "source": [
    "## Softmax\n",
    "as described in the book(chapter 3)\n",
    "\n",
    "- The idea of softmax is to define a new type of output layer for our neural networks. It begins in the same way as with a sigmoid layer. However, we don't apply the sigmoid function to get the output. Instead, in a softmax layer we apply the so-called softmax function which changes the output of the neuron as follows:  \n",
    "\n",
    "![image.png](attachment:image.png)\n",
    "\n",
    "- So basically it changes the output of the neuron into a probability\n",
    "\n",
    "> Note  I have used Softmax instead of Sigmoid in my training as it was working better for me "
   ]
  },
  {
   "cell_type": "code",
   "execution_count": 18,
   "metadata": {},
   "outputs": [],
   "source": [
    "class Softmax:\n",
    "\n",
    "    def forward(self,z):\n",
    "        self.z = z\n",
    "        zmax = z.max(axis=1,keepdims=True)\n",
    "        expz = np.exp(z-zmax)\n",
    "        Z = expz.sum(axis=1,keepdims=True)\n",
    "        return expz / Z\n",
    "    \n",
    "    def backward(self,dp):\n",
    "        p = self.forward(self.z)\n",
    "        pdp = p * dp\n",
    "        return pdp - p * pdp.sum(axis=1, keepdims=True)\n",
    "\n",
    "softmax = Softmax()\n",
    "z2 = softmax.forward(mod.forward(train_x[0:10]))"
   ]
  },
  {
   "attachments": {
    "image.png": {
     "image/png": "[encoded data removed]"
    }
   },
   "cell_type": "markdown",
   "metadata": {},
   "source": [
    "## Cross Entropy cost function\n",
    "\n",
    "- As mentioned in the book (chapter 3) Cross Entropy is one of the best loss functions we can use in a multi layer perceptron\n",
    "\n",
    "- The cross-entropy cost function has the benefit that, unlike the quadratic cost, it avoids the problem of learning slowing down.\n",
    "\n",
    "- The cross-entropy cost function is defined by\n",
    "\n",
    "![image.png](attachment:image.png)"
   ]
  },
  {
   "cell_type": "code",
   "execution_count": 19,
   "metadata": {},
   "outputs": [
    {
     "name": "stdout",
     "output_type": "stream",
     "text": [
      "[0 0 0]\n"
     ]
    },
    {
     "data": {
      "text/plain": [
       "5.318873"
      ]
     },
     "execution_count": 19,
     "metadata": {},
     "output_type": "execute_result"
    }
   ],
   "source": [
    "class CrossEntropyLoss:\n",
    "    def forward(self,p,y):\n",
    "        self.p = p\n",
    "        self.y = y\n",
    "        p_of_y = p[np.arange(len(y)), y]\n",
    "        log_prob = np.log(p_of_y)\n",
    "        return -log_prob.mean()\n",
    "    \n",
    "    def backward(self,loss):\n",
    "        dlog_softmax = np.zeros_like(self.p)\n",
    "        dlog_softmax[np.arange(len(self.y)), self.y] -= 1.0/len(self.y)\n",
    "        return dlog_softmax / self.p\n",
    "    \n",
    "cross_ent_loss = CrossEntropyLoss()\n",
    "p = softmax.forward(train_x[0:10])\n",
    "\n",
    "print(train_labels[0:3])\n",
    "# p = np.array([[0, 0, 1],\n",
    "#               [1, 0, 0],\n",
    "#               [0,0,1]])\n",
    "\n",
    "cross_ent_loss.forward(p,train_labels[0:3])\n",
    "# cross_ent(z2, train_labels[0:10])"
   ]
  },
  {
   "cell_type": "markdown",
   "metadata": {},
   "source": [
    "## Unlinearity functions\n",
    "\n",
    "- In multilayer nertworks we have to put functions between layers that introduce unlinearity to the layer instead of all the layers acting as just one layer.  \n",
    "> I still don't really understand how these functions do it\n",
    "\n",
    "- Two of the most used activation functions are **Tanh**, **Relu**\n",
    "#### Tanh\n",
    "- it calculate the tanh for the output   \n",
    "#### Relu\n",
    "- it return the maximum between the uotput and some number as zero\n"
   ]
  },
  {
   "cell_type": "code",
   "execution_count": 20,
   "metadata": {},
   "outputs": [],
   "source": [
    "class Tanh:\n",
    "    def forward(self,x):\n",
    "        y = np.tanh(x)\n",
    "        self.y = y\n",
    "        return y\n",
    "    def backward(self,dy):\n",
    "        return (1.0-self.y**2)*dy\n",
    "    \n",
    "class Relu:\n",
    "    def forward(self, x):\n",
    "        self.y = np.maximum(0, x) \n",
    "        return self.y\n",
    "\n",
    "    def backward(self, dy):\n",
    "        return (self.y > 0) * dy \n",
    "    \n",
    "# T = Tanh()\n",
    "# T.forward()\n",
    "# r = Relu()\n"
   ]
  },
  {
   "cell_type": "code",
   "execution_count": 21,
   "metadata": {},
   "outputs": [
    {
     "name": "stdout",
     "output_type": "stream",
     "text": [
      "1.2960994958853034\n"
     ]
    }
   ],
   "source": [
    "z = mod.forward(train_x[0:10])\n",
    "p = softmax.forward(z)\n",
    "loss = cross_ent_loss.forward(p,train_labels[0:10])\n",
    "print(loss)"
   ]
  },
  {
   "cell_type": "code",
   "execution_count": 171,
   "metadata": {},
   "outputs": [],
   "source": [
    "# lin1 = Layer(7,7)\n",
    "# lin2 = Layer(7,2)\n",
    "# softmax = Softmax()\n",
    "# cross_ent_loss = CrossEntropyLoss()\n",
    "\n",
    "# learning_rate = 0.1\n",
    "\n",
    "# pred = np.argmax(lin2.forward(lin1.forward(train_x)),axis=1)\n",
    "# acc = (pred==train_labels).mean()\n",
    "# print(acc)\n",
    "\n",
    "\n",
    "# batch_size=4\n",
    "# epochs = 4\n",
    "# for j in range(epochs):\n",
    "#     for i in range(0,len(train_x),batch_size):\n",
    "#         xb = train_x[i:i+batch_size]\n",
    "#         yb = train_labels[i:i+batch_size]\n",
    "        \n",
    "#         # forward pass\n",
    "#         z1 = lin1.forward(xb)\n",
    "#         z = lin2.forward(z1)\n",
    "\n",
    "#         p = softmax.forward(z)\n",
    "#         loss = cross_ent_loss.forward(p,yb)\n",
    "        \n",
    "#         # backward pass\n",
    "#         dp = cross_ent_loss.backward(loss)\n",
    "#         dz2 = softmax.backward(dp)\n",
    "#         dz = lin2.backward(dz2)\n",
    "#         lin2.update(learning_rate)\n",
    "#         dx = lin1.backward(dz)\n",
    "#         lin1.update(learning_rate)\n",
    "        \n",
    "#     pred = np.argmax(lin1.forward(train_x),axis=1)\n",
    "#     acc = (pred==train_labels).mean()\n",
    "#     print(acc)"
   ]
  },
  {
   "cell_type": "markdown",
   "metadata": {},
   "source": [
    "## Neural Network Class  \n",
    "\n",
    "Now i will make a class that will represent our NN model by adding the layer we want together\n",
    "\n",
    "- It will have the following functions \n",
    "\n",
    "1. forward: makes predictions for our model \n",
    "2. backward: Makes the back propagation for our model \n",
    "**Back propagation** is the process of knowing how to adjust the wights and biases in the network to reduce the loss function output. It was explained in **Chapter Two**. it works by making backward derivatvies using the chain rule through out the whole model layers.\n",
    "\n",
    "> The backward functions in the model was understood and took from the concepts of the functions in [this REPO](https://github.com/microsoft/etrain)"
   ]
  },
  {
   "cell_type": "code",
   "execution_count": 22,
   "metadata": {},
   "outputs": [],
   "source": [
    "class Model:\n",
    "    def __init__(self):\n",
    "        self.layers = []\n",
    "    \n",
    "    def add(self,l):\n",
    "        self.layers.append(l)\n",
    "        \n",
    "    def forward(self,x):\n",
    "        for l in self.layers:\n",
    "            x = l.forward(x)\n",
    "        return x\n",
    "    \n",
    "    def backward(self,z):\n",
    "        for l in self.layers[::-1]:\n",
    "            z = l.backward(z)\n",
    "        return z\n",
    "    \n",
    "    def update(self,lr):\n",
    "        for l in self.layers:\n",
    "            if 'update' in l.__dir__():\n",
    "                l.update(lr)"
   ]
  },
  {
   "cell_type": "markdown",
   "metadata": {},
   "source": [
    "## Training \n",
    "- Defining a function that takes data with its corresponding labels and strt training the model"
   ]
  },
  {
   "cell_type": "code",
   "execution_count": 23,
   "metadata": {},
   "outputs": [],
   "source": [
    "def get_loss_acc(mod, x,y,loss=CrossEntropyLoss()): ## Return the cost, accuaracy\n",
    "    p = mod.forward(x)\n",
    "    l = loss.forward(p,y)\n",
    "    pred = np.argmax(p,axis=1)\n",
    "    acc = (pred==y).mean()\n",
    "    return l,acc\n",
    "\n",
    "def train_model(model, train_data, valid_data, loss=CrossEntropyLoss(),epochs = 5, batch_size=16, lr=0.01):\n",
    "    for x in range (epochs):\n",
    "        for j in range(0,len(train_x),batch_size):\n",
    "            i = np.random.choice(range(0,len(train_x)-batch_size-1) )\n",
    "            xb = train_x[i:i+batch_size]\n",
    "            yb = train_labels[i:i+batch_size]\n",
    "\n",
    "            p = model.forward(xb)\n",
    "            l = loss.forward(p,yb)\n",
    "            dp = loss.backward(l)\n",
    "            dx = model.backward(dp)\n",
    "            model.update(lr)\n",
    "\n",
    "        losss, acc = get_loss_acc(model, train_data[0],train_data[1])\n",
    "        print(f\"\\nepochs: {x+1}, accuracy: {acc}, loss:{losss} \",end =\" \")\n",
    "        losss, acc = get_loss_acc(model, valid_data[0],valid_data[1])\n",
    "        print(f\"Validation accuracy: {acc}, Validation loss:{losss} \\n\")"
   ]
  },
  {
   "cell_type": "code",
   "execution_count": 24,
   "metadata": {},
   "outputs": [
    {
     "name": "stdout",
     "output_type": "stream",
     "text": [
      "Initial loss=0.375, accuracy=2.3371403184710347: \n",
      "\n",
      "epochs: 1, accuracy: 0.375, loss:1.9159618118865758  Validation accuracy: 0.5, Validation loss:1.3940783827631038 \n",
      "\n",
      "\n",
      "epochs: 2, accuracy: 0.425, loss:1.587068386321603  Validation accuracy: 0.5, Validation loss:1.1629232281768278 \n",
      "\n",
      "\n",
      "epochs: 3, accuracy: 0.4375, loss:1.3391755131500758  Validation accuracy: 0.5, Validation loss:1.0176446305777618 \n",
      "\n",
      "\n",
      "epochs: 4, accuracy: 0.4875, loss:1.162060125015866  Validation accuracy: 0.5, Validation loss:0.9331793373751648 \n",
      "\n",
      "\n",
      "epochs: 5, accuracy: 0.55, loss:1.0110706761760344  Validation accuracy: 0.55, Validation loss:0.8233795881331195 \n",
      "\n",
      "\n",
      "epochs: 6, accuracy: 0.5875, loss:0.899450580213014  Validation accuracy: 0.6, Validation loss:0.77780405210772 \n",
      "\n",
      "\n",
      "epochs: 7, accuracy: 0.625, loss:0.8573997806397495  Validation accuracy: 0.6, Validation loss:0.766422415227524 \n",
      "\n",
      "\n",
      "epochs: 8, accuracy: 0.6375, loss:0.822388947894359  Validation accuracy: 0.6, Validation loss:0.753445161204735 \n",
      "\n",
      "\n",
      "epochs: 9, accuracy: 0.675, loss:0.8056522479153859  Validation accuracy: 0.55, Validation loss:0.7562613837330833 \n",
      "\n",
      "\n",
      "epochs: 10, accuracy: 0.6375, loss:0.7992346178587095  Validation accuracy: 0.55, Validation loss:0.7585190038975635 \n",
      "\n",
      "\n",
      "epochs: 11, accuracy: 0.6875, loss:0.7867411465908185  Validation accuracy: 0.55, Validation loss:0.7559632290313651 \n",
      "\n"
     ]
    }
   ],
   "source": [
    "model1 = Model()\n",
    "model1.add(Layer(7,3))\n",
    "model1.add(Softmax())\n",
    "loss = CrossEntropyLoss()\n",
    "\n",
    "losss, acc = get_loss_acc(model1, train_x,train_labels)\n",
    "print(f\"Initial loss={acc}, accuracy={losss}: \")\n",
    "\n",
    " \n",
    "train_model(model1,(train_x, train_labels),(test_x, test_labels), epochs=11, lr = 0.05)\n"
   ]
  },
  {
   "cell_type": "markdown",
   "metadata": {},
   "source": [
    "## Works good enough\n",
    "\n",
    "- we can see the accuracy increasing and the loss decreasing\n",
    "\n",
    "### Now i will try to make a larger model using my framework and train it on the minist data sat"
   ]
  },
  {
   "cell_type": "code",
   "execution_count": 25,
   "metadata": {},
   "outputs": [],
   "source": [
    "from tensorflow import keras\n",
    "\n",
    "(train_x, train_labels), (test_x, test_labels) = keras.datasets.mnist.load_data()\n",
    "train_x = train_x.reshape(60000, 28 * 28)\n",
    "test_x = test_x.reshape(10000, 28 * 28)"
   ]
  },
  {
   "cell_type": "markdown",
   "metadata": {},
   "source": [
    "#### i reshaped the data set to convert it into a 1D vector which my model can train"
   ]
  },
  {
   "cell_type": "code",
   "execution_count": 27,
   "metadata": {},
   "outputs": [
    {
     "name": "stdout",
     "output_type": "stream",
     "text": [
      "Initial loss=2.499090246396412, accuracy=0.10285: \n",
      "\n",
      "epochs: 1, accuracy: 0.66715, loss:1.4319905056684998  Validation accuracy: 0.6791, Validation loss:1.4182191129234991 \n",
      "\n",
      "\n",
      "epochs: 2, accuracy: 0.7178, loss:1.332650129624932  Validation accuracy: 0.7262, Validation loss:1.326334270707869 \n",
      "\n",
      "\n",
      "epochs: 3, accuracy: 0.7322833333333333, loss:1.296286742999343  Validation accuracy: 0.7377, Validation loss:1.2827135682284705 \n",
      "\n"
     ]
    }
   ],
   "source": [
    "model2 = Model()\n",
    "model2.add(Layer(28*28,36))\n",
    "model2.add(Tanh())\n",
    "# model2.add(Relu)\n",
    "model2.add(Layer(36,10))\n",
    "model2.add(Tanh())\n",
    "\n",
    "model2.add(Softmax())\n",
    "loss = CrossEntropyLoss()\n",
    "\n",
    "losss, acc = get_loss_acc(model2, train_x,train_labels)\n",
    "print(f\"Initial loss={losss}, accuracy={acc}: \")\n",
    "\n",
    " \n",
    "train_model(model2,(train_x, train_labels),(test_x, test_labels), epochs=5, lr = 0.02, batch_size=32)\n"
   ]
  },
  {
   "cell_type": "markdown",
   "metadata": {},
   "source": [
    "## The FrameWork works Good "
   ]
  }
 ],
 "metadata": {
  "kernelspec": {
   "display_name": "Python 3",
   "language": "python",
   "name": "python3"
  },
  "language_info": {
   "codemirror_mode": {
    "name": "ipython",
    "version": 3
   },
   "file_extension": ".py",
   "mimetype": "text/x-python",
   "name": "python",
   "nbconvert_exporter": "python",
   "pygments_lexer": "ipython3",
   "version": "3.11.4"
  }
 },
 "nbformat": 4,
 "nbformat_minor": 2
}
